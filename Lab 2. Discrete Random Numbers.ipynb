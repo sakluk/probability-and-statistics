{
 "cells": [
  {
   "cell_type": "markdown",
   "metadata": {},
   "source": [
    "# Lab 2. Discrete Random Numbers\n",
    "\n",
    "Probability and Statistics, Spring 2016   \n",
    "\n",
    "[CC BY-NC-SA](https://creativecommons.org/licenses/by-nc-sa/3.0/), Sakari Lukkarinen   \n",
    "Helsinki Metropolia University of Applied Sciences   \n",
    "\n",
    "Based on documentation of random numbers\n",
    "\n",
    "https://docs.python.org/2/library/random.html#random.getrandbits\n",
    "\n",
    "http://docs.scipy.org/doc/numpy/reference/routines.random.html "
   ]
  },
  {
   "cell_type": "markdown",
   "metadata": {},
   "source": [
    "We start by reading the most important libraries to Python."
   ]
  },
  {
   "cell_type": "code",
   "execution_count": 83,
   "metadata": {
    "collapsed": false
   },
   "outputs": [],
   "source": [
    "import numpy as np\n",
    "import matplotlib.pyplot as plt\n",
    "%matplotlib inline\n",
    "\n",
    "# For Python 2.7 users to make the code compatible with 3.X take the comment away\n",
    "# from __future__ import print_function, division"
   ]
  },
  {
   "cell_type": "markdown",
   "metadata": {},
   "source": [
    "Random library contains the common random generators."
   ]
  },
  {
   "cell_type": "code",
   "execution_count": 84,
   "metadata": {
    "collapsed": true
   },
   "outputs": [],
   "source": [
    "import numpy.random as rnd"
   ]
  },
  {
   "cell_type": "markdown",
   "metadata": {},
   "source": [
    "Integer valued random numbers can be generated with function `randint(N)`, where `N` gives the upper limit of the numbers. For example `rnd.randint(10)` generates a random integer between 0 and 9."
   ]
  },
  {
   "cell_type": "code",
   "execution_count": 85,
   "metadata": {
    "collapsed": false
   },
   "outputs": [
    {
     "data": {
      "text/plain": [
       "0"
      ]
     },
     "execution_count": 85,
     "metadata": {},
     "output_type": "execute_result"
    }
   ],
   "source": [
    "rnd.randint(10)"
   ]
  },
  {
   "cell_type": "markdown",
   "metadata": {},
   "source": [
    "We can generate several random numbers using a for loop."
   ]
  },
  {
   "cell_type": "code",
   "execution_count": 86,
   "metadata": {
    "collapsed": false
   },
   "outputs": [
    {
     "name": "stdout",
     "output_type": "stream",
     "text": [
      "9   4   0   1   2   9   8   6   0   4   "
     ]
    }
   ],
   "source": [
    "for i in range(10):\n",
    "    print(rnd.randint(10), \" \", end=\" \")"
   ]
  },
  {
   "cell_type": "markdown",
   "metadata": {},
   "source": [
    "Or creating a list."
   ]
  },
  {
   "cell_type": "code",
   "execution_count": 87,
   "metadata": {
    "collapsed": false
   },
   "outputs": [
    {
     "data": {
      "text/plain": [
       "[3, 2, 0, 5, 1, 3, 6, 6, 4, 0]"
      ]
     },
     "execution_count": 87,
     "metadata": {},
     "output_type": "execute_result"
    }
   ],
   "source": [
    "x = [rnd.randint(10) for i in range(10)]\n",
    "x"
   ]
  },
  {
   "cell_type": "markdown",
   "metadata": {},
   "source": [
    "Most efficient is to create arrays. Then you need to specify the `low`, `high`, and `size` parameters for `randint()` function."
   ]
  },
  {
   "cell_type": "code",
   "execution_count": 88,
   "metadata": {
    "collapsed": false
   },
   "outputs": [
    {
     "data": {
      "text/plain": [
       "array([4, 2, 3, 4, 6, 5, 4, 4, 4, 7, 8, 4, 8, 1, 6, 7, 6, 9, 5, 2, 5, 9, 8,\n",
       "       8, 7, 2, 2, 0, 9, 3, 2, 5, 6, 8, 5, 3, 0, 2, 9, 3, 8, 0, 9, 0, 4, 8,\n",
       "       9, 5, 1, 2])"
      ]
     },
     "execution_count": 88,
     "metadata": {},
     "output_type": "execute_result"
    }
   ],
   "source": [
    "low = 0\n",
    "high = 10\n",
    "size = 50\n",
    "x = rnd.randint(low, high, size)\n",
    "x"
   ]
  },
  {
   "cell_type": "markdown",
   "metadata": {},
   "source": [
    "What if we want to count and display the frequency histogram of the generated values?"
   ]
  },
  {
   "cell_type": "code",
   "execution_count": 89,
   "metadata": {
    "collapsed": false
   },
   "outputs": [
    {
     "data": {
      "text/plain": [
       "<matplotlib.text.Text at 0x5f58550>"
      ]
     },
     "execution_count": 89,
     "metadata": {},
     "output_type": "execute_result"
    },
    {
     "data": {
      "image/png": "[encoded data removed]",
      "text/plain": [
       "<matplotlib.figure.Figure at 0x5fd6438>"
      ]
     },
     "metadata": {},
     "output_type": "display_data"
    }
   ],
   "source": [
    "out = plt.hist(x)\n",
    "plt.xlabel(\"Value of x\")\n",
    "plt.ylabel(\"Frequency (#)\")"
   ]
  },
  {
   "cell_type": "markdown",
   "metadata": {},
   "source": [
    "What's in the `out` variable?"
   ]
  },
  {
   "cell_type": "code",
   "execution_count": 90,
   "metadata": {
    "collapsed": false
   },
   "outputs": [
    {
     "data": {
      "text/plain": [
       "(array([ 4.,  2.,  7.,  4.,  7.,  6.,  4.,  3.,  7.,  6.]),\n",
       " array([ 0. ,  0.9,  1.8,  2.7,  3.6,  4.5,  5.4,  6.3,  7.2,  8.1,  9. ]),\n",
       " <a list of 10 Patch objects>)"
      ]
     },
     "execution_count": 90,
     "metadata": {},
     "output_type": "execute_result"
    }
   ],
   "source": [
    "out"
   ]
  },
  {
   "cell_type": "markdown",
   "metadata": {},
   "source": [
    "It contains two arrays: the first one has the counts and the second array the x-limits. \n",
    "\n",
    "Let's try different x-limits."
   ]
  },
  {
   "cell_type": "code",
   "execution_count": 91,
   "metadata": {
    "collapsed": false
   },
   "outputs": [
    {
     "name": "stdout",
     "output_type": "stream",
     "text": [
      "Frequencies =  [ 4.  2.  7.  4.  7.  6.  4.  3.  7.  6.  0.]\n",
      "Limits for bins = [ -0.5   0.5   1.5   2.5   3.5   4.5   5.5   6.5   7.5   8.5   9.5  10.5]\n"
     ]
    },
    {
     "data": {
      "image/png": "[encoded data removed]",
      "text/plain": [
       "<matplotlib.figure.Figure at 0x5cc8438>"
      ]
     },
     "metadata": {},
     "output_type": "display_data"
    }
   ],
   "source": [
    "limits = np.arange(-0.5, 11, 1.0)\n",
    "out = plt.hist(x, bins = limits)\n",
    "plt.xlim([-0.5, 10.5])\n",
    "plt.xlabel(\"Value of x\")\n",
    "plt.ylabel(\"Frequency (#)\")\n",
    "print(\"Frequencies = \", out[0]) # The frequencies\n",
    "print(\"Limits for bins =\", out[1]) # The bin limits"
   ]
  },
  {
   "cell_type": "markdown",
   "metadata": {},
   "source": [
    "### Exercise 1. Histogram of random integers\n",
    "Create an array of 1000 random integer numbers in range 0..20 and make a histogram plot of the distribution."
   ]
  },
  {
   "cell_type": "code",
   "execution_count": null,
   "metadata": {
    "collapsed": false
   },
   "outputs": [],
   "source": []
  },
  {
   "cell_type": "markdown",
   "metadata": {},
   "source": [
    "### Exercise 2. Flat histogram\n",
    "\n",
    "Increase the number of random integers on previous exercises. Explore different values. Make graphs of the histograms and compare the histograms. How many random numbers are needed in order that the histogram looks flat and evenly distributed?"
   ]
  },
  {
   "cell_type": "code",
   "execution_count": null,
   "metadata": {
    "collapsed": true
   },
   "outputs": [],
   "source": []
  },
  {
   "cell_type": "markdown",
   "metadata": {},
   "source": [
    "## Two-valued random numbers\n",
    "\n",
    "In this second exercise we create two-valued random numbers."
   ]
  },
  {
   "cell_type": "code",
   "execution_count": 92,
   "metadata": {
    "collapsed": false
   },
   "outputs": [
    {
     "data": {
      "text/plain": [
       "'B'"
      ]
     },
     "execution_count": 92,
     "metadata": {},
     "output_type": "execute_result"
    }
   ],
   "source": [
    "rnd.choice(['A','B'])"
   ]
  },
  {
   "cell_type": "markdown",
   "metadata": {},
   "source": [
    "Let's create a coin flipping experiment"
   ]
  },
  {
   "cell_type": "code",
   "execution_count": 93,
   "metadata": {
    "collapsed": false
   },
   "outputs": [
    {
     "name": "stdout",
     "output_type": "stream",
     "text": [
      "['head' 'tail' 'tail' 'tail' 'head' 'head' 'head' 'head' 'head' 'head']\n"
     ]
    }
   ],
   "source": [
    "N = 10\n",
    "coin = rnd.choice(['head', 'tail'], N)\n",
    "print(coin)"
   ]
  },
  {
   "cell_type": "markdown",
   "metadata": {},
   "source": [
    "Testing if the coin has value 'head'"
   ]
  },
  {
   "cell_type": "code",
   "execution_count": 94,
   "metadata": {
    "collapsed": false
   },
   "outputs": [
    {
     "data": {
      "text/plain": [
       "array([ True, False, False, False,  True,  True,  True,  True,  True,  True], dtype=bool)"
      ]
     },
     "execution_count": 94,
     "metadata": {},
     "output_type": "execute_result"
    }
   ],
   "source": [
    "coin == 'head'"
   ]
  },
  {
   "cell_type": "markdown",
   "metadata": {},
   "source": [
    "Now we can count how many 'head's we got."
   ]
  },
  {
   "cell_type": "code",
   "execution_count": 95,
   "metadata": {
    "collapsed": false
   },
   "outputs": [
    {
     "data": {
      "text/plain": [
       "7"
      ]
     },
     "execution_count": 95,
     "metadata": {},
     "output_type": "execute_result"
    }
   ],
   "source": [
    "np.sum(coin == 'head')"
   ]
  },
  {
   "cell_type": "markdown",
   "metadata": {},
   "source": [
    "### Exercise 3. Coin flipping\n",
    "If we flip the coin 100 times, how many times we get 'head'? Is it always the same number?"
   ]
  },
  {
   "cell_type": "code",
   "execution_count": null,
   "metadata": {
    "collapsed": false
   },
   "outputs": [],
   "source": []
  },
  {
   "cell_type": "markdown",
   "metadata": {},
   "source": [
    "### Exercise 4. Repeated coin flipping\n",
    "\n",
    "Run the 100 coin flipping experiment several times, lets say, repeat the experiment 1000 times. Count on each round how many times you got 'head' and store the sum of the heads into a new variable, Named this variable as `sum_of_heads`. Make a graph how the number of heads changes over the simulation iterations. What do you observe?\n",
    "\n",
    "Tip. Use the code of previous exercise and add a for-loop around the simulation. Check the [Loops and if/else statements](http://nbviewer.jupyter.org/github/mbakker7/exploratory_computing_with_python/blob/master/notebook3/py_exploratory_comp_3_sol.ipynb) for more details, if you feel uncertain how to use for-loop."
   ]
  },
  {
   "cell_type": "code",
   "execution_count": null,
   "metadata": {
    "collapsed": false
   },
   "outputs": [],
   "source": []
  },
  {
   "cell_type": "markdown",
   "metadata": {},
   "source": [
    "### Exercise 5. Statistics of coin flipping\n",
    "\n",
    "Make a histogram of the sum of the heads of previous exercise. Explore and use suitable bins. How does the sum of heads histogram look like? Is it flat?"
   ]
  },
  {
   "cell_type": "code",
   "execution_count": null,
   "metadata": {
    "collapsed": false
   },
   "outputs": [],
   "source": []
  },
  {
   "cell_type": "markdown",
   "metadata": {},
   "source": [
    "## Cumulative sum"
   ]
  },
  {
   "cell_type": "markdown",
   "metadata": {},
   "source": [
    "If we have an array of numbers, we can calculate the cumulative sum of them using `np.cumsum` function."
   ]
  },
  {
   "cell_type": "code",
   "execution_count": 96,
   "metadata": {
    "collapsed": false
   },
   "outputs": [
    {
     "name": "stdout",
     "output_type": "stream",
     "text": [
      "[1 1 3 6 7]\n"
     ]
    }
   ],
   "source": [
    "x = np.array([1, 0, 2, 3, 1])\n",
    "s = np.cumsum(x)\n",
    "print(s)"
   ]
  },
  {
   "cell_type": "markdown",
   "metadata": {},
   "source": [
    "In the first element of the results we have the value of the first element of input,  and in the following elements we add one-by-one the next value. As the final result the cumulative sum is calculated as:\n",
    "> [1, (1 + 0), (1 + 0 + 2), (1 + 0 + 2 + 3), (1 + 0 + 2 + 3 + 1)] = [1 1 3 6 7]"
   ]
  },
  {
   "cell_type": "markdown",
   "metadata": {},
   "source": [
    "What if we have True-False data in the input?"
   ]
  },
  {
   "cell_type": "code",
   "execution_count": 97,
   "metadata": {
    "collapsed": false
   },
   "outputs": [
    {
     "name": "stdout",
     "output_type": "stream",
     "text": [
      "[1 1 2 3 3]\n"
     ]
    }
   ],
   "source": [
    "x = np.array([True, False, True, True, False])\n",
    "s = np.cumsum(x)\n",
    "print(s)"
   ]
  },
  {
   "cell_type": "markdown",
   "metadata": {},
   "source": [
    "The cumsum counts each `True` value as `1` and `False` as `0`:\n",
    "> [1, (1 + 0), (1 + 0 + 1), (1 + 0 + 1 + 1), (1 + 0 + 1 + 1 + 0)] = [1 1 2 3 3]"
   ]
  },
  {
   "cell_type": "markdown",
   "metadata": {},
   "source": [
    "Let's flip the coin (again)and see how the number of 'head's changes over the time of flipping using the `cumsum` function."
   ]
  },
  {
   "cell_type": "code",
   "execution_count": 98,
   "metadata": {
    "collapsed": false
   },
   "outputs": [
    {
     "data": {
      "image/png": "[encoded data removed]",
      "text/plain": [
       "<matplotlib.figure.Figure at 0x8fe2da0>"
      ]
     },
     "metadata": {},
     "output_type": "display_data"
    }
   ],
   "source": [
    "N = 50\n",
    "coin = rnd.choice(['head', 'tail'], N)\n",
    "\n",
    "# Calculate cumulative sum of heads\n",
    "s = np.cumsum(coin == 'head')\n",
    "\n",
    "# Index = how many times we have flipped the coin so far\n",
    "i = np.arange(len(s)) + 1\n",
    "\n",
    "# Make a graph of the cumulative sum of heads\n",
    "plt.plot(i, s)\n",
    "plt.grid()"
   ]
  },
  {
   "cell_type": "markdown",
   "metadata": {},
   "source": [
    "It seems that the number of heads is increasing almost at the half rate of the number of flips (slope = 0.5). How about the propability of getting heads? We can calculate that by dividing the number of heads by the number the coin has been flipped  so far. This is your next exercise.\n",
    "\n",
    "### Exercise 6. Probability of getting head in coin flipping\n",
    "\n",
    "Flip the coin 1000 times and calculate the cumulative sum of the results. Create a second array, which contains the information how many times the coin has been flipped so far. Divide these two arrays to get the probability of heads over the number of flippings. Make a graph how the probability is changing when the number of flippings increases.\n",
    "\n",
    "How many times do you need to flip the coin before the probability stabilizes around the value of 0.5?"
   ]
  },
  {
   "cell_type": "code",
   "execution_count": null,
   "metadata": {
    "collapsed": true
   },
   "outputs": [],
   "source": []
  },
  {
   "cell_type": "markdown",
   "metadata": {},
   "source": [
    "### Exercise 7. Repeating the probability run (*)\n",
    "\n",
    "Repeat the previous exercise several times, for example, 50 times. Make a graph where all repetitions are plotted overlayed each other. How does that spaghetti looks like? How many times we need to flip the coin before we can say that the probability is about 0.5 to get the head?"
   ]
  },
  {
   "cell_type": "code",
   "execution_count": null,
   "metadata": {
    "collapsed": true
   },
   "outputs": [],
   "source": []
  },
  {
   "cell_type": "markdown",
   "metadata": {},
   "source": [
    "## Averaging random numbers\n",
    "\n",
    "In this exercise we continue flipping the coin. Now we want to calculate the average value of heads. For this exercise you need the code from previous ones."
   ]
  },
  {
   "cell_type": "markdown",
   "metadata": {},
   "source": [
    "Let's assume that you have repeated the 100 coin flipping experiment 10 times and got the following numbers of heads on each run."
   ]
  },
  {
   "cell_type": "code",
   "execution_count": 99,
   "metadata": {
    "collapsed": false
   },
   "outputs": [],
   "source": [
    "s = [ 55,  56,  45,  51,  52,  52,  52,  55,  51,  56]"
   ]
  },
  {
   "cell_type": "markdown",
   "metadata": {},
   "source": [
    "### Exercise 8. Average and standard deviation\n",
    "\n",
    "What are the average and standard deviation of these numbers?\n",
    "\n",
    "Tip: Search help for `np.mean` and `np.std`."
   ]
  },
  {
   "cell_type": "code",
   "execution_count": null,
   "metadata": {
    "collapsed": false
   },
   "outputs": [],
   "source": []
  },
  {
   "cell_type": "markdown",
   "metadata": {},
   "source": [
    "### Exercise 9. Average and standard deviation of flipping the coin (*)\n",
    "\n",
    "Use the code of exercise 4 here again. Change and explore the number of coin flippings and repetion times. Make histograms and calculate the average and standard deviations of each simulation.\n",
    "\n",
    "How do the average and standard deviation depend on the number of coin flippings and repetition times?"
   ]
  },
  {
   "cell_type": "code",
   "execution_count": null,
   "metadata": {
    "collapsed": true
   },
   "outputs": [],
   "source": []
  }
 ],
 "metadata": {
  "kernelspec": {
   "display_name": "Python 3",
   "language": "python",
   "name": "python3"
  },
  "language_info": {
   "codemirror_mode": {
    "name": "ipython",
    "version": 3
   },
   "file_extension": ".py",
   "mimetype": "text/x-python",
   "name": "python",
   "nbconvert_exporter": "python",
   "pygments_lexer": "ipython3",
   "version": "3.5.1"
  }
 },
 "nbformat": 4,
 "nbformat_minor": 0
}
