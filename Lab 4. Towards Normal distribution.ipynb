{
 "cells": [
  {
   "cell_type": "markdown",
   "metadata": {},
   "source": [
    "# Lab 4. Origin of Normal Distribution\n",
    "\n",
    "Probability and Statistics, Spring 2016   \n",
    "\n",
    "[CC BY-NC-SA](https://creativecommons.org/licenses/by-nc-sa/3.0/), Sakari Lukkarinen, Helsinki Metropolia University of Applied Sciences   \n",
    "\n",
    "\n",
    "## Where does the Normal distribution originate from?\n",
    "\n",
    "Abraham de Moivre (26 May 1667 – 27 November 1754) - * a Mathematician and Consultant of gamblers*\n",
    "\n",
    "Lane, D. [History of the Normal Distribution](http://onlinestatbook.com/2/normal_distribution/history_normal.html), onlinestatbook.com   \n",
    "\n",
    "\n",
    "<img src=\"https://upload.wikimedia.org/wikipedia/commons/1/1b/Abraham_de_moivre.jpg\" alt=\"Abraham de Moivre\" style=\"height:300px;\">\n",
    "<img src=\"http://blog.michaelgaio.com/wp-content/uploads/2012/09/gambling-ca-1800.jpg\" alt=\"Gambling\" style=\"height:300px;\">\n"
   ]
  },
  {
   "cell_type": "code",
   "execution_count": 19,
   "metadata": {
    "collapsed": false,
    "scrolled": false
   },
   "outputs": [],
   "source": [
    "# Embed a YouTube video on the topic\n",
    "# from IPython.lib.display import YouTubeVideo\n",
    "# YouTubeVideo(\"BXof869EC68\")"
   ]
  },
  {
   "cell_type": "markdown",
   "metadata": {},
   "source": [
    "[Background music](https://www.youtube.com/watch?v=0CFuCYNx-1g)"
   ]
  },
  {
   "cell_type": "markdown",
   "metadata": {},
   "source": [
    "## Importing libraries"
   ]
  },
  {
   "cell_type": "code",
   "execution_count": 12,
   "metadata": {
    "collapsed": true
   },
   "outputs": [],
   "source": [
    "import numpy as np\n",
    "import matplotlib.pyplot as plt\n",
    "import numpy.random as rnd\n",
    "%matplotlib inline"
   ]
  },
  {
   "cell_type": "markdown",
   "metadata": {},
   "source": [
    "## Counting heads\n",
    "\n",
    "[Flipping coins](https://www.google.com/search?q=flipping+a+coin&source=lnms&tbm=isch&sa=X&ved=0ahUKEwih-rOBn7jMAhXGDpoKHT7iBHQQ_AUIBygB&biw=1680&bih=925#tbm=isch&q=flipping+coins&imgrc=_)\n",
    "\n",
    "If you throw `n` coins on the table several times and count the number of heads on each time, how many heads do you in average get? How much there is variation?"
   ]
  },
  {
   "cell_type": "code",
   "execution_count": 13,
   "metadata": {
    "collapsed": false
   },
   "outputs": [
    {
     "data": {
      "image/png": "[encoded data removed]",
      "text/plain": [
       "<matplotlib.figure.Figure at 0x856eef0>"
      ]
     },
     "metadata": {},
     "output_type": "display_data"
    }
   ],
   "source": [
    "# Flip n coins N times and plot the histogram of number of heads\n",
    "\n",
    "# Simulate coin flipping\n",
    "N = 500\n",
    "n = 100\n",
    "x = np.zeros(N)\n",
    "for i in range(N):\n",
    "    coins = rnd.choice(['head','tail'], n)\n",
    "    # Count the heads\n",
    "    s = np.sum(coins == 'head')\n",
    "    # Store results\n",
    "    x[i] = s\n",
    "\n",
    "# Create a histogram with custom bins\n",
    "bins = np.arange(-0.5, 100.5)\n",
    "p = plt.hist(x, bins)\n",
    "plt.title('Simulation of coins flipping')\n",
    "plt.xlabel('Number of heads')\n",
    "plt.ylabel('Frequency')\n",
    "plt.xlim(0, 100)\n",
    "plt.grid()"
   ]
  },
  {
   "cell_type": "markdown",
   "metadata": {
    "collapsed": true
   },
   "source": [
    "### Exercise 1\n",
    "Try different values of `n` and `N`. How does the shape of the distribution change? Can you explain why?"
   ]
  },
  {
   "cell_type": "code",
   "execution_count": null,
   "metadata": {
    "collapsed": true
   },
   "outputs": [],
   "source": []
  },
  {
   "cell_type": "markdown",
   "metadata": {},
   "source": [
    "### Exercise 2\n",
    "\n",
    "The mean and standard deviation of the distribution are calculated with functions `np.mean(x)` and `np.std(x)`. Try different values of `n` and `N` and explore how the mean and standard deviation depend on `n` or `N`."
   ]
  },
  {
   "cell_type": "code",
   "execution_count": null,
   "metadata": {
    "collapsed": true
   },
   "outputs": [],
   "source": []
  },
  {
   "cell_type": "markdown",
   "metadata": {},
   "source": [
    "## Mean value of random integers\n",
    "\n",
    "In this next exercise we generate an array of random integers and calculate the mean value of them. Then we repeat the simulation several times and make a histogram of the mean values."
   ]
  },
  {
   "cell_type": "code",
   "execution_count": 14,
   "metadata": {
    "collapsed": false,
    "scrolled": true
   },
   "outputs": [
    {
     "data": {
      "image/png": "[encoded data removed]",
      "text/plain": [
       "<matplotlib.figure.Figure at 0x9bbb9b0>"
      ]
     },
     "metadata": {},
     "output_type": "display_data"
    }
   ],
   "source": [
    "# Calculate the mean of n random integers. Simulate N times and make a histogram of the mean values\n",
    "\n",
    "N = 500\n",
    "n = 10\n",
    "x = np.zeros(N)\n",
    "for i in range(N):\n",
    "    samples = rnd.random_integers(1, 100, n)\n",
    "    # Calculate the mean\n",
    "    m = np.mean(samples)\n",
    "    # Store results\n",
    "    x[i] = m\n",
    "\n",
    "# Create a histogram of mean values with custom bins\n",
    "bins = np.arange(-0.5, 100.5)\n",
    "p = plt.hist(x, bins)\n",
    "plt.title('Histogram of mean values of integers')\n",
    "plt.xlabel('Mean value')\n",
    "plt.ylabel('Frequency')\n",
    "plt.xlim(0, 100)\n",
    "plt.grid()"
   ]
  },
  {
   "cell_type": "markdown",
   "metadata": {},
   "source": [
    "### Exercise 3\n",
    "\n",
    "Try different values of `n` and `N`. How does the shape of the histogram depent on them?"
   ]
  },
  {
   "cell_type": "code",
   "execution_count": null,
   "metadata": {
    "collapsed": true
   },
   "outputs": [],
   "source": []
  },
  {
   "cell_type": "markdown",
   "metadata": {},
   "source": [
    "### Exercise 4\n",
    "\n",
    "Repeat the experiment with several values of `n`, for example `n = [10, 20, 50, 100, 200, 500, 1000]`. \n",
    "\n",
    "How does the `np.mean(x)` and `np.std(x)` depend on `n`? Make a graphical plot, something like `plot(n, mean_values_of(x))`.\n",
    "\n",
    "How does `std(x)` depend on `n`?"
   ]
  },
  {
   "cell_type": "code",
   "execution_count": null,
   "metadata": {
    "collapsed": true
   },
   "outputs": [],
   "source": []
  },
  {
   "cell_type": "markdown",
   "metadata": {},
   "source": [
    "## Odd distribution of random integers\n",
    "\n",
    "In the following code we generate oddly distributed random integers. The distribution contains two sets of random numbers. The sets are then combined to make odd random distribution, where there are more samples on lower values of x."
   ]
  },
  {
   "cell_type": "code",
   "execution_count": 15,
   "metadata": {
    "collapsed": false
   },
   "outputs": [
    {
     "data": {
      "image/png": "[encoded data removed]",
      "text/plain": [
       "<matplotlib.figure.Figure at 0x880b9e8>"
      ]
     },
     "metadata": {},
     "output_type": "display_data"
    }
   ],
   "source": [
    "# Make an odd distribution of random integers and plot the distribution using histogram\n",
    "\n",
    "# First set of integers between 1 and 50\n",
    "n1 = 5000\n",
    "s1 = rnd.random_integers(1, 50, n1)\n",
    "\n",
    "# Second set of integers between 51 and 100\n",
    "n2 = 2500\n",
    "s2 = rnd.random_integers(51, 100, n2)\n",
    "\n",
    "# Combine samples\n",
    "s = np.hstack((s1, s2))\n",
    "\n",
    "# And make a histogram\n",
    "bins = np.arange(-0.5, 100.5)\n",
    "p = plt.hist(s, bins)\n",
    "plt.title('Oddly distributed random integers')\n",
    "plt.xlabel('Value of the integer')\n",
    "plt.ylabel('Frequency')\n",
    "plt.xlim(0, 100)\n",
    "plt.grid()"
   ]
  },
  {
   "cell_type": "markdown",
   "metadata": {},
   "source": [
    "Next we use this idea to make a repeated simulation and calculate the mean value of each iteration."
   ]
  },
  {
   "cell_type": "code",
   "execution_count": 16,
   "metadata": {
    "collapsed": false,
    "scrolled": true
   },
   "outputs": [
    {
     "data": {
      "image/png": "[encoded data removed]",
      "text/plain": [
       "<matplotlib.figure.Figure at 0x8a02710>"
      ]
     },
     "metadata": {},
     "output_type": "display_data"
    }
   ],
   "source": [
    "# Calculate the mean value of oddly distributed random integers. Repeat the simulation N times.\n",
    "# Make a distribution of the calculated mean values.\n",
    "\n",
    "# Parameters\n",
    "N = 500\n",
    "n1 = 2\n",
    "n2 = 5\n",
    "\n",
    "# Simulate N times\n",
    "x = np.zeros(N)\n",
    "for i in range(N):\n",
    "    # First set of random integers\n",
    "    s1 = rnd.random_integers(1, 50, n1)\n",
    "    \n",
    "    # Second set of random integers\n",
    "    s2 = rnd.random_integers(51, 100, n2)\n",
    "    \n",
    "    # Merge them\n",
    "    samples = np.hstack((s1, s2))\n",
    "    \n",
    "    # Calculate mean\n",
    "    m = np.mean(samples)\n",
    "    \n",
    "    # Store results\n",
    "    x[i] = m\n",
    "\n",
    "# Make a histogram of the mean values\n",
    "bins = np.arange(-0.5, 100.5)\n",
    "p = plt.hist(x, bins)\n",
    "plt.title('Distribution of the averages')\n",
    "plt.xlabel('Average value')\n",
    "plt.ylabel('Frequency')\n",
    "plt.xlim(0, 100)\n",
    "plt.grid()"
   ]
  },
  {
   "cell_type": "markdown",
   "metadata": {},
   "source": [
    "### Exercise 5\n",
    "\n",
    "Explore different values for `N`, `n1` and `n2`. How does the shape of the average values depend on these parameters?"
   ]
  },
  {
   "cell_type": "code",
   "execution_count": null,
   "metadata": {
    "collapsed": true
   },
   "outputs": [],
   "source": []
  },
  {
   "cell_type": "markdown",
   "metadata": {},
   "source": [
    "### Exercise 6\n",
    "\n",
    "Change one parameter at a time, for example, `N = [500, 1000, 2000, 5000, 10000, ...]`. How does the `mean(x)` and `std(x)` depend on the parameters?"
   ]
  },
  {
   "cell_type": "code",
   "execution_count": null,
   "metadata": {
    "collapsed": true
   },
   "outputs": [],
   "source": []
  },
  {
   "cell_type": "markdown",
   "metadata": {},
   "source": [
    "## Exponential distribution\n",
    "\n",
    "In these last experiments we generate exponentially distributed random numbers. For that purpose we use `rnd.exponential` function."
   ]
  },
  {
   "cell_type": "code",
   "execution_count": 17,
   "metadata": {
    "collapsed": false
   },
   "outputs": [
    {
     "data": {
      "image/png": "[encoded data removed]",
      "text/plain": [
       "<matplotlib.figure.Figure at 0x9bbbd30>"
      ]
     },
     "metadata": {},
     "output_type": "display_data"
    }
   ],
   "source": [
    "# Exponentially distributed random numbers\n",
    "\n",
    "n = 10000\n",
    "x = rnd.exponential(10.0, n)\n",
    "bins = np.arange(-0.5, 100.5)\n",
    "p = plt.hist(x, bins)\n",
    "plt.xlim(0, 100)\n",
    "plt.title('Exponentially distributed random numbers')\n",
    "plt.xlabel('Value of random number')\n",
    "plt.ylabel('Frequency')\n",
    "plt.grid()"
   ]
  },
  {
   "cell_type": "markdown",
   "metadata": {},
   "source": [
    "Let's do the same as in previous simulations. We add a loop and repeat the experiment several times and calculate the mean value of the exponentially distributed random numbers on each time. Lastly we make histogram plot of the mean values."
   ]
  },
  {
   "cell_type": "code",
   "execution_count": 18,
   "metadata": {
    "collapsed": false
   },
   "outputs": [
    {
     "data": {
      "image/png": "[encoded data removed]",
      "text/plain": [
       "<matplotlib.figure.Figure at 0x5baa8d0>"
      ]
     },
     "metadata": {},
     "output_type": "display_data"
    }
   ],
   "source": [
    "# Calculate the average of n exponentially distributed numbers. Repeat the experiment N times.\n",
    "# Make a distribution plot of the average values.\n",
    "\n",
    "# Simulation parameters\n",
    "N = 500\n",
    "n = 10\n",
    "\n",
    "# Simulate N times\n",
    "x = np.zeros(N)\n",
    "for i in range(N):\n",
    "    samples = rnd.exponential(20.0, n)\n",
    "    m = np.mean(samples)\n",
    "    x[i] = m\n",
    "    \n",
    "# Make a distribution graph using histogram function\n",
    "bins = np.arange(-0.5, 100.5)\n",
    "p = plt.hist(x, bins)\n",
    "plt.xlabel('Average of 100 random integers')\n",
    "plt.ylabel('Frequency')\n",
    "plt.title('Distribution of the averages')\n",
    "plt.xlim(0, 100)\n",
    "plt.grid()"
   ]
  },
  {
   "cell_type": "markdown",
   "metadata": {},
   "source": [
    "### Exercise 7\n",
    "\n",
    "Explore different values for `N` and `n`. How does the shape of the distribution depend on them?"
   ]
  },
  {
   "cell_type": "code",
   "execution_count": null,
   "metadata": {
    "collapsed": true
   },
   "outputs": [],
   "source": []
  },
  {
   "cell_type": "markdown",
   "metadata": {},
   "source": [
    "### Exercise 8\n",
    "\n",
    "Calculate the `mean(x)` and `std(x)`. How does them depend on `N` and `n`?"
   ]
  },
  {
   "cell_type": "code",
   "execution_count": null,
   "metadata": {
    "collapsed": true
   },
   "outputs": [],
   "source": []
  }
 ],
 "metadata": {
  "celltoolbar": "Raw Cell Format",
  "kernelspec": {
   "display_name": "Python 3",
   "language": "python",
   "name": "python3"
  },
  "language_info": {
   "codemirror_mode": {
    "name": "ipython",
    "version": 3
   },
   "file_extension": ".py",
   "mimetype": "text/x-python",
   "name": "python",
   "nbconvert_exporter": "python",
   "pygments_lexer": "ipython3",
   "version": "3.5.1"
  }
 },
 "nbformat": 4,
 "nbformat_minor": 0
}
