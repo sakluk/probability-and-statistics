{
 "cells": [
  {
   "cell_type": "markdown",
   "metadata": {},
   "source": [
    "# Exercises 5 and 6. Normal distribution and Linear regression\n",
    "\n",
    "Probability and Statistics, Spring 2016\n",
    "\n",
    "CC BY-NC-SA, Sakari Lukkarinen\n",
    "Helsinki Metropolia University of Applied Sciences\n"
   ]
  },
  {
   "cell_type": "markdown",
   "metadata": {},
   "source": [
    "## Normal distribution\n",
    "\n",
    "Solve the Normal Distribution Homeworks given in Tuubi using Python and random numbers."
   ]
  },
  {
   "cell_type": "markdown",
   "metadata": {},
   "source": [
    "## Linear regression\n",
    "Adapted from [Exploratory computing with Python](http://nbviewer.jupyter.org/github/mbakker7/exploratory_computing_with_python/blob/master/notebook_s4/py_exp_comp_s4_sol.ipynb)\n",
    "\n",
    "### Exercise 1\n",
    "Find the best linear regression line for the following data. Compute the difference (error) between the fitted and observed values of ydata. Compute the mean and standard deviation of the error (the mean should be very close to zero).\n",
    "\n",
    "`\n",
    "xdata = array([0.0,1.0,2.0,3.0,4.0,5.0])  # Observed value of x   \n",
    "ydata = array([1.0,3.0,2.0,5.0,5.0,6.0])  # Observed value of y   \n",
    "`"
   ]
  },
  {
   "cell_type": "markdown",
   "metadata": {},
   "source": [
    "### Exercise 2\n",
    "\n",
    "The data set of experiments on wooden beams contains two measurements of the elasticity modulus. The column labeled Estat contains measurements of the elasticity modulus using a standard static bending experiment. The column labeled Edyn contains measurements of the elasticity modulus using a dynamic mechanical analysis where an oscillatory force is applied. The two experiments don't give exactly the same value. \n",
    "\n",
    "Use the following code to read the data in and make a scatter plot of the data. You are asked to determine the linear relationship between the two measurements. How well do the measurements correlate? \n",
    "\n",
    "`\n",
    "from pandas import read_csv   \n",
    "file_name = 'https://raw.githubusercontent.com/mbakker7/exploratory_computing_with_python/master/notebook_s4/douglas_data.csv'   \n",
    "w = read_csv(file_name,skiprows=[1],skipinitialspace=True)   \n",
    "x = w.Edyn   \n",
    "y = w.Estat   \n",
    "plt.plot(x, y, 'o')   \n",
    "`"
   ]
  },
  {
   "cell_type": "markdown",
   "metadata": {},
   "source": [
    "### Exercise 3\n",
    "Compute the difference between the fitted and observed values of Edyn; these are called the errors. Compute the mean and standard deviation of the error (if you have done the fit correctly, the mean should be very close to zero). Create a histogram of the errors. \n",
    "\n",
    "### Exercise 4 (bonus)\n",
    "\n",
    "Add to the same graph the Normal distribution using the sample mean and sample standard deviation you just computed (use norm.pdf() to add the Normal distribution). Where are the 2.5 and 97.5 percentiles according to the Normal distribution?"
   ]
  },
  {
   "cell_type": "markdown",
   "metadata": {},
   "source": [
    "### Exercise 5 \n",
    "\n",
    "Similarly, as in exercise 2, make a scatter plot between columns `w.beamheight` and `w.bstrength`. What is the linear relationship between them?"
   ]
  }
 ],
 "metadata": {
  "kernelspec": {
   "display_name": "Python 3",
   "language": "python",
   "name": "python3"
  },
  "language_info": {
   "codemirror_mode": {
    "name": "ipython",
    "version": 3
   },
   "file_extension": ".py",
   "mimetype": "text/x-python",
   "name": "python",
   "nbconvert_exporter": "python",
   "pygments_lexer": "ipython3",
   "version": "3.5.1"
  }
 },
 "nbformat": 4,
 "nbformat_minor": 0
}
