{
 "cells": [
  {
   "cell_type": "markdown",
   "metadata": {},
   "source": [
    "# Lab 6. Linear Regression and Curve fitting\n",
    "\n",
    "Probability and Statistics, Spring 2016\n",
    "\n",
    "CC BY-NC-SA, Sakari Lukkarinen\n",
    "Helsinki Metropolia University of Applied Sciences"
   ]
  },
  {
   "cell_type": "code",
   "execution_count": 43,
   "metadata": {
    "collapsed": true
   },
   "outputs": [],
   "source": [
    "import numpy as np\n",
    "import matplotlib.pyplot as plt\n",
    "import numpy.random as rnd\n",
    "%matplotlib inline"
   ]
  },
  {
   "cell_type": "code",
   "execution_count": 44,
   "metadata": {
    "collapsed": false
   },
   "outputs": [
    {
     "data": {
      "text/plain": [
       "[<matplotlib.lines.Line2D at 0x9012d30>]"
      ]
     },
     "execution_count": 44,
     "metadata": {},
     "output_type": "execute_result"
    },
    {
     "data": {
      "image/png": "[encoded data removed]",
      "text/plain": [
       "<matplotlib.figure.Figure at 0x8fc6048>"
      ]
     },
     "metadata": {},
     "output_type": "display_data"
    }
   ],
   "source": [
    "# Let's make data. y = 2x + 3\n",
    "x = np.arange(-5, 5)\n",
    "y = 2.0*x + 3.0\n",
    "plt.plot(x, y, 'o')"
   ]
  },
  {
   "cell_type": "code",
   "execution_count": 45,
   "metadata": {
    "collapsed": false
   },
   "outputs": [
    {
     "name": "stdout",
     "output_type": "stream",
     "text": [
      "[ 2.  3.]\n"
     ]
    }
   ],
   "source": [
    "# Use polyfit to find the coefficients\n",
    "p = np.polyfit(x, y, 1)\n",
    "print(p)\n",
    "# y = 2.*x + 3."
   ]
  },
  {
   "cell_type": "code",
   "execution_count": 46,
   "metadata": {
    "collapsed": false
   },
   "outputs": [
    {
     "data": {
      "text/plain": [
       "[<matplotlib.lines.Line2D at 0x903e828>]"
      ]
     },
     "execution_count": 46,
     "metadata": {},
     "output_type": "execute_result"
    },
    {
     "data": {
      "image/png": "[encoded data removed]",
      "text/plain": [
       "<matplotlib.figure.Figure at 0x903e048>"
      ]
     },
     "metadata": {},
     "output_type": "display_data"
    }
   ],
   "source": [
    "# Evaluate the polynomial y = p[0]*x + p[1]\n",
    "y_est = np.polyval(p, x)\n",
    "plt.plot(x, y, 'o')\n",
    "plt.plot(x, y_est, '-')"
   ]
  },
  {
   "cell_type": "code",
   "execution_count": 47,
   "metadata": {
    "collapsed": false
   },
   "outputs": [
    {
     "name": "stdout",
     "output_type": "stream",
     "text": [
      "error =  [  1.77635684e-15   1.77635684e-15   1.33226763e-15   1.33226763e-15\n",
      "   1.33226763e-15   1.33226763e-15   1.77635684e-15   1.77635684e-15\n",
      "   1.77635684e-15   1.77635684e-15]\n"
     ]
    }
   ],
   "source": [
    "# How much there is error?\n",
    "err = y - y_est\n",
    "print('error = ', err)"
   ]
  },
  {
   "cell_type": "code",
   "execution_count": 48,
   "metadata": {
    "collapsed": false
   },
   "outputs": [
    {
     "name": "stdout",
     "output_type": "stream",
     "text": [
      "std(error) =  2.17558392882e-16\n"
     ]
    }
   ],
   "source": [
    "# What is the standard deviation of the error?\n",
    "estd = np.std(err)\n",
    "print(\"std(error) = \",estd)"
   ]
  },
  {
   "cell_type": "code",
   "execution_count": 50,
   "metadata": {
    "collapsed": false
   },
   "outputs": [
    {
     "data": {
      "text/plain": [
       "array([[ 1.,  1.],\n",
       "       [ 1.,  1.]])"
      ]
     },
     "execution_count": 50,
     "metadata": {},
     "output_type": "execute_result"
    }
   ],
   "source": [
    "# How well they correlate?\n",
    "np.corrcoef(x, y)\n",
    "# Very well."
   ]
  },
  {
   "cell_type": "code",
   "execution_count": 51,
   "metadata": {
    "collapsed": false
   },
   "outputs": [
    {
     "data": {
      "text/plain": [
       "[<matplotlib.lines.Line2D at 0x90d9208>]"
      ]
     },
     "execution_count": 51,
     "metadata": {},
     "output_type": "execute_result"
    },
    {
     "data": {
      "image/png": "[encoded data removed]",
      "text/plain": [
       "<matplotlib.figure.Figure at 0x9081940>"
      ]
     },
     "metadata": {},
     "output_type": "display_data"
    }
   ],
   "source": [
    "# Add some noise to the data y2 = y + random_noise\n",
    "n = rnd.randn(np.size(y))\n",
    "y2 = y + n\n",
    "plt.plot(x, y2, 'o')"
   ]
  },
  {
   "cell_type": "code",
   "execution_count": 52,
   "metadata": {
    "collapsed": false
   },
   "outputs": [
    {
     "name": "stdout",
     "output_type": "stream",
     "text": [
      "p =  [ 2.13210013  3.1472214 ]\n"
     ]
    }
   ],
   "source": [
    "# Find the best line fit for the random data\n",
    "p = np.polyfit(x, y2, 1)\n",
    "print(\"p = \", p)"
   ]
  },
  {
   "cell_type": "code",
   "execution_count": 53,
   "metadata": {
    "collapsed": false
   },
   "outputs": [
    {
     "data": {
      "text/plain": [
       "[<matplotlib.lines.Line2D at 0x90e8f28>]"
      ]
     },
     "execution_count": 53,
     "metadata": {},
     "output_type": "execute_result"
    },
    {
     "data": {
      "image/png": "[encoded data removed]",
      "text/plain": [
       "<matplotlib.figure.Figure at 0x90e8828>"
      ]
     },
     "metadata": {},
     "output_type": "display_data"
    }
   ],
   "source": [
    "# Evaluate the polynomial y = p[0]*x + p[1] for the random data\n",
    "y_est2 = np.polyval(p, x)\n",
    "plt.plot(x, y2, 'o')\n",
    "plt.plot(x, y_est2, '-')"
   ]
  },
  {
   "cell_type": "code",
   "execution_count": 54,
   "metadata": {
    "collapsed": false
   },
   "outputs": [
    {
     "name": "stdout",
     "output_type": "stream",
     "text": [
      "error2 =  [ 0.51327924  0.38117911  0.24907898  0.11697886 -0.01512127 -0.1472214\n",
      " -0.27932153 -0.41142165 -0.54352178 -0.67562191]\n"
     ]
    }
   ],
   "source": [
    "# How much there is error?\n",
    "err2 = y - y_est2\n",
    "print(\"error2 = \", err2)"
   ]
  },
  {
   "cell_type": "code",
   "execution_count": 55,
   "metadata": {
    "collapsed": false
   },
   "outputs": [
    {
     "name": "stdout",
     "output_type": "stream",
     "text": [
      "std(error2) =  0.379428728738\n"
     ]
    }
   ],
   "source": [
    "# How much is the standard deviation of the error?\n",
    "err2std = np.std(err2)\n",
    "print(\"std(error2) = \", err2std)"
   ]
  },
  {
   "cell_type": "code",
   "execution_count": 58,
   "metadata": {
    "collapsed": false
   },
   "outputs": [
    {
     "data": {
      "text/plain": [
       "array([[ 1.        ,  0.97202541],\n",
       "       [ 0.97202541,  1.        ]])"
      ]
     },
     "execution_count": 58,
     "metadata": {},
     "output_type": "execute_result"
    }
   ],
   "source": [
    "# How do they correlate?\n",
    "np.corrcoef(x, y2)\n",
    "# Well, but less than without noise"
   ]
  },
  {
   "cell_type": "code",
   "execution_count": 59,
   "metadata": {
    "collapsed": false
   },
   "outputs": [
    {
     "data": {
      "text/plain": [
       "[<matplotlib.lines.Line2D at 0x91addd8>]"
      ]
     },
     "execution_count": 59,
     "metadata": {},
     "output_type": "execute_result"
    },
    {
     "data": {
      "image/png": "[encoded data removed]",
      "text/plain": [
       "<matplotlib.figure.Figure at 0x9116eb8>"
      ]
     },
     "metadata": {},
     "output_type": "display_data"
    }
   ],
   "source": [
    "# Second order curve fit\n",
    "x = np.arange(0, 11)\n",
    "y = 0.5*x**2 - 3.0*x + 2.0 + 1.5*rnd.randn(np.size(x))\n",
    "plt.plot(x, y, 'o')"
   ]
  },
  {
   "cell_type": "code",
   "execution_count": 60,
   "metadata": {
    "collapsed": false
   },
   "outputs": [
    {
     "name": "stdout",
     "output_type": "stream",
     "text": [
      "p =  [ 0.48602695 -2.80370275  1.93219256]\n"
     ]
    }
   ],
   "source": [
    "# Find the best curve fit\n",
    "p = np.polyfit(x, y, 2)\n",
    "print(\"p = \", p)"
   ]
  },
  {
   "cell_type": "code",
   "execution_count": 61,
   "metadata": {
    "collapsed": false
   },
   "outputs": [
    {
     "data": {
      "text/plain": [
       "[<matplotlib.lines.Line2D at 0x9182f60>]"
      ]
     },
     "execution_count": 61,
     "metadata": {},
     "output_type": "execute_result"
    },
    {
     "data": {
      "image/png": "[encoded data removed]",
      "text/plain": [
       "<matplotlib.figure.Figure at 0x9182c88>"
      ]
     },
     "metadata": {},
     "output_type": "display_data"
    }
   ],
   "source": [
    "# Evaluate the polynomial y = p[0]*x**2 + p[1]*x + p[2] with higher accuracy of x\n",
    "x2 = np.arange(0, 10.1, 0.1)\n",
    "y2 = np.polyval(p, x2)\n",
    "plt.plot(x, y, 'o')\n",
    "plt.plot(x2, y2, '-')"
   ]
  },
  {
   "cell_type": "code",
   "execution_count": 62,
   "metadata": {
    "collapsed": false
   },
   "outputs": [
    {
     "name": "stdout",
     "output_type": "stream",
     "text": [
      "error =  [-0.12380736  1.78189275 -2.00906199 -1.77839977  2.23424388  1.01711491\n",
      " -0.79013165 -1.7862463   1.43804479  0.87447129 -0.85812055]\n"
     ]
    }
   ],
   "source": [
    "# Calculate the error. For that we need original x-points\n",
    "y_est = np.polyval(p, x)\n",
    "err = y - y_est\n",
    "print(\"error = \", err)"
   ]
  },
  {
   "cell_type": "code",
   "execution_count": 63,
   "metadata": {
    "collapsed": false
   },
   "outputs": [
    {
     "name": "stdout",
     "output_type": "stream",
     "text": [
      "std(error) =  1.47092740979\n"
     ]
    }
   ],
   "source": [
    "# The standard deviation of the error\n",
    "estd = np.std(err)\n",
    "print(\"std(error) = \", estd)"
   ]
  },
  {
   "cell_type": "code",
   "execution_count": 64,
   "metadata": {
    "collapsed": false
   },
   "outputs": [
    {
     "data": {
      "text/plain": [
       "array([[ 1.        ,  0.82011361],\n",
       "       [ 0.82011361,  1.        ]])"
      ]
     },
     "execution_count": 64,
     "metadata": {},
     "output_type": "execute_result"
    }
   ],
   "source": [
    "# Does it make sense to calculate the correlation in second order fit?\n",
    "np.corrcoef(x, y)\n",
    "# it gives the linear correlation, e.g. fitting linear model y = a*x + b !!!"
   ]
  },
  {
   "cell_type": "code",
   "execution_count": null,
   "metadata": {
    "collapsed": true
   },
   "outputs": [],
   "source": []
  }
 ],
 "metadata": {
  "kernelspec": {
   "display_name": "Python 3",
   "language": "python",
   "name": "python3"
  },
  "language_info": {
   "codemirror_mode": {
    "name": "ipython",
    "version": 3
   },
   "file_extension": ".py",
   "mimetype": "text/x-python",
   "name": "python",
   "nbconvert_exporter": "python",
   "pygments_lexer": "ipython3",
   "version": "3.5.1"
  }
 },
 "nbformat": 4,
 "nbformat_minor": 0
}
