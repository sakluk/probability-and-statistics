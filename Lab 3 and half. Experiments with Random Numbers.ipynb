{
 "cells": [
  {
   "cell_type": "code",
   "execution_count": null,
   "metadata": {
    "collapsed": true
   },
   "outputs": [],
   "source": [
    "import numpy as np\n",
    "import matplotlib.pyplot as plt\n",
    "import numpy.random as rnd\n",
    "%matplotlib inline"
   ]
  },
  {
   "cell_type": "markdown",
   "metadata": {},
   "source": [
    "# Lab 3 and half. Experiments with Random Numbers\n",
    "\n",
    "Probability and Statistics, Spring 2016\n",
    "\n",
    "CC BY-NC-SA, Sakari Lukkarinen\n",
    "Helsinki Metropolia University of Applied Sciences\n",
    "\n",
    "## Concept of probability\n",
    "\n",
    "### Classical approach\n",
    "\n",
    "1. Think a set of all possible outcomes of a random experiment. That's called the sample space.\n",
    "2. Count all possible ways how a random every event can occur.\n",
    "2. Calculate the probabilities of each event by dividing by the event combinations by the total number of combinations.\n",
    "\n",
    "Example: Consider a case of tossing a die once. \n",
    "- The possible outcomes (the sample space) is `S = {1, 2, 3, 4, 5, 6}`. \n",
    "- The total number of combinations `N = 6`. \n",
    "- There is only one possible way to get any of the dice numbers, e.g. `n1 = n2 = n3 = n4 = n5 = n6 = 1`.\n",
    "- Thus the probabilities for each possible outcome is `p = {1/6, 1/6, 1/6, 1/6, 1/6, 1/6}`.\n",
    "\n",
    "This could be written in Python:"
   ]
  },
  {
   "cell_type": "code",
   "execution_count": null,
   "metadata": {
    "collapsed": false
   },
   "outputs": [],
   "source": [
    "# Calculating probabilities using classical approach\n",
    "\n",
    "s = np.array([1, 2, 3, 4, 5, 6])\n",
    "N = 6\n",
    "n = np.array([1, 1, 1, 1, 1, 1])\n",
    "p = n/N\n",
    "print('s =', s)\n",
    "print('p =', p)\n",
    "plt.bar(s - 0.5, p, width = 1.0)"
   ]
  },
  {
   "cell_type": "markdown",
   "metadata": {},
   "source": [
    "### Frequency approach\n",
    "\n",
    "1. Think which distribution model fits to your experiment.\n",
    "2. Generate a large set (N) of random events using that distribution model.\n",
    "3. Calculate how many times each event occurred (frequency histrogram).\n",
    "4. Divide the counted numbers by the total number of events.\n",
    "\n",
    "Example: Tossing a dice once.\n",
    "- The possible outcomes are `S = {1, 2, 3, 4, 5, 6}`.\n",
    "- Use random generator to generate a large set of events.\n",
    "- Calculate the frequency histogram.\n",
    "- Calculate the probabilities by dividing the frequency results by `N`.\n",
    "\n",
    "In Python:"
   ]
  },
  {
   "cell_type": "code",
   "execution_count": null,
   "metadata": {
    "collapsed": true
   },
   "outputs": [],
   "source": [
    "N = 10000\n",
    "x = rnd.randint(1, 7, N)"
   ]
  },
  {
   "cell_type": "code",
   "execution_count": null,
   "metadata": {
    "collapsed": false
   },
   "outputs": [],
   "source": [
    "# Calculate frequencies using a for-loop\n",
    "S = np.arange(1, 7)\n",
    "y = np.zeros(6)\n",
    "for n in range(N):\n",
    "    y[x[n]-1] += 1\n",
    "\n",
    "plt.figure(figsize = (10, 5))\n",
    "\n",
    "plt.subplot(1, 2, 1)\n",
    "plt.bar(S - 0.5, y, width = 1.0)\n",
    "\n",
    "plt.subplot(1, 2, 2)\n",
    "plt.bar(S - 0.5, y/N, width = 1.0)"
   ]
  },
  {
   "cell_type": "code",
   "execution_count": null,
   "metadata": {
    "collapsed": false
   },
   "outputs": [],
   "source": [
    "# Alternatively, use hist() function to calculate the frequencies\n",
    "\n",
    "plt.figure(figsize = (10, 5))\n",
    "\n",
    "# Frequency histogram\n",
    "plt.subplot(1, 2, 1)\n",
    "h = plt.hist(x, np.arange(0.5, 7, 1))\n",
    "\n",
    "# Probability histogram\n",
    "plt.subplot(1, 2, 2)\n",
    "hn = plt.hist(x, np.arange(0.5, 7, 1), normed=True)"
   ]
  },
  {
   "cell_type": "markdown",
   "metadata": {},
   "source": [
    "# Examples\n",
    "\n",
    "## Summing up two dices\n",
    "\n",
    "Tossing and summing up two dices.\n",
    "- The possible outcomes are `S = {2, 3, 4, 5, 6, 7, 8, 9, 10, 11, 12}`.\n",
    "- Repeat the experiment several times `N`\n",
    "    - Use random generator to generate an event `e = rnd.randint(1, 7, 2)`\n",
    "    - Sum them up `s = np.sum(e)`\n",
    "    - Store the value to `x`\n",
    "- Calculate the frequency histogram.\n",
    "- Divide the frequency results by `N`.\n"
   ]
  },
  {
   "cell_type": "code",
   "execution_count": null,
   "metadata": {
    "collapsed": true
   },
   "outputs": [],
   "source": [
    "rnd.randint?"
   ]
  },
  {
   "cell_type": "code",
   "execution_count": null,
   "metadata": {
    "collapsed": true
   },
   "outputs": [],
   "source": [
    "N = 10000\n",
    "x = np.zeros(N)\n",
    "n = 0\n",
    "while n < N:\n",
    "    e = rnd.randint(1, 7, 2)\n",
    "    s = np.sum(e)\n",
    "    x[n] = s\n",
    "    n += 1\n",
    "  "
   ]
  },
  {
   "cell_type": "code",
   "execution_count": null,
   "metadata": {
    "collapsed": false
   },
   "outputs": [],
   "source": [
    "# Count frequencies using the loop\n",
    "S = np.arange(2, 13)\n",
    "\n",
    "y = np.zeros(np.size(S))\n",
    "for n in range(N):\n",
    "    y[int(x[n]) - 2] += 1\n",
    "\n",
    "plt.figure(figsize = (10, 5))\n",
    "\n",
    "plt.subplot(1, 2, 1)\n",
    "plt.bar(S - 0.5, y, width = 1.0)\n",
    "\n",
    "plt.subplot(1, 2, 2)\n",
    "plt.bar(S - 0.5, y/N, width = 1.0)"
   ]
  },
  {
   "cell_type": "code",
   "execution_count": null,
   "metadata": {
    "collapsed": false
   },
   "outputs": [],
   "source": [
    "# Alternatively, use hist() function\n",
    "\n",
    "plt.figure(figsize = (10, 5))\n",
    "\n",
    "plt.subplot(1, 2, 1)\n",
    "plt.hist(x, np.arange(1.5, 13));\n",
    "\n",
    "plt.subplot(1, 2, 2)\n",
    "plt.hist(x, np.arange(1.5, 13), normed=True);"
   ]
  },
  {
   "cell_type": "code",
   "execution_count": null,
   "metadata": {
    "collapsed": false
   },
   "outputs": [],
   "source": [
    "print(\"mean = \", np.mean(x))\n",
    "print(\"std = \", np.std(x))\n",
    "print(\"P(x <= 7) = \", np.sum(x <= 7)/N)"
   ]
  },
  {
   "cell_type": "markdown",
   "metadata": {},
   "source": [
    "## Throwing 10 coins and summing up the heads"
   ]
  },
  {
   "cell_type": "code",
   "execution_count": null,
   "metadata": {
    "collapsed": true
   },
   "outputs": [],
   "source": [
    "rnd.choice?"
   ]
  },
  {
   "cell_type": "code",
   "execution_count": null,
   "metadata": {
    "collapsed": true
   },
   "outputs": [],
   "source": [
    "N = 10000\n",
    "x = np.zeros(N)\n",
    "n = 0\n",
    "while n < N:\n",
    "    e = rnd.choice(['head', 'tail'], 10)\n",
    "    s = np.sum(e == 'head')\n",
    "    x[n] = s\n",
    "    n += 1"
   ]
  },
  {
   "cell_type": "code",
   "execution_count": null,
   "metadata": {
    "collapsed": false
   },
   "outputs": [],
   "source": [
    "# Count frequencies using a while-loop\n",
    "S = np.arange(0, 11)\n",
    "y = np.zeros(np.size(S))\n",
    "n = 0\n",
    "while n < N:\n",
    "    i = int(x[n])\n",
    "    y[i] += 1\n",
    "    n += 1\n",
    "\n",
    "plt.bar(S - 0.5, y/N, width = 1.0)"
   ]
  },
  {
   "cell_type": "code",
   "execution_count": null,
   "metadata": {
    "collapsed": false
   },
   "outputs": [],
   "source": [
    "# Alternatively, use hist() function\n",
    "\n",
    "plt.hist(x, np.arange(-0.5, 11), normed=True);"
   ]
  },
  {
   "cell_type": "code",
   "execution_count": null,
   "metadata": {
    "collapsed": false
   },
   "outputs": [],
   "source": [
    "print(\"mean =\", np.mean(x))\n",
    "print(\"std = \", np.std(x))\n",
    "print(\"P(x <= 5) = \", np.sum(x <= 5)/N)"
   ]
  },
  {
   "cell_type": "markdown",
   "metadata": {},
   "source": [
    "## Receiving Facebook Messages\n",
    "\n",
    "Assuming that the messages received follows Poisson distribution and the average number of received Facebook messages per day $\\lambda = 10$.\n",
    "\n",
    "$\\large{P(k) = \\frac{e^{-\\lambda}\\lambda^k}{k!}}$"
   ]
  },
  {
   "cell_type": "code",
   "execution_count": null,
   "metadata": {
    "collapsed": true
   },
   "outputs": [],
   "source": [
    "rnd.poisson?"
   ]
  },
  {
   "cell_type": "code",
   "execution_count": null,
   "metadata": {
    "collapsed": true
   },
   "outputs": [],
   "source": [
    "# Poisson distribution\n",
    "\n",
    "N = 10000\n",
    "x = np.zeros(N)\n",
    "n = 0\n",
    "while n < N:\n",
    "    e = rnd.poisson(10, 1)\n",
    "    x[n] = e\n",
    "    n += 1"
   ]
  },
  {
   "cell_type": "code",
   "execution_count": null,
   "metadata": {
    "collapsed": true
   },
   "outputs": [],
   "source": [
    "# Shorter version\n",
    "x = rnd.poisson(10, N)"
   ]
  },
  {
   "cell_type": "code",
   "execution_count": null,
   "metadata": {
    "collapsed": false
   },
   "outputs": [],
   "source": [
    "# Count frequencies using a while-loop\n",
    "S = np.arange(0, 30)\n",
    "y = np.zeros(np.size(S))\n",
    "N = 10000\n",
    "n = 0\n",
    "while n < N:\n",
    "    i = int(x[n])\n",
    "    y[i] += 1\n",
    "    n += 1\n",
    "\n",
    "plt.bar(S-0.5, y/N, width=1.0);\n",
    "plt.xlim(0, 30);"
   ]
  },
  {
   "cell_type": "code",
   "execution_count": null,
   "metadata": {
    "collapsed": false
   },
   "outputs": [],
   "source": [
    "# Alternatively, use hist() function\n",
    "plt.hist(x, np.arange(-0.5, 31), normed=True);\n",
    "plt.xlim(0, 30);"
   ]
  },
  {
   "cell_type": "code",
   "execution_count": null,
   "metadata": {
    "collapsed": false
   },
   "outputs": [],
   "source": [
    "print(\"mean =\", np.mean(x))\n",
    "print(\"std =\", np.std(x))\n",
    "print(\"P(x <= 10) =\", np.sum(x <= 10)/N)"
   ]
  },
  {
   "cell_type": "markdown",
   "metadata": {},
   "source": [
    "## Lifetime of an electronic device\n",
    "\n",
    "The exponential distribution is often used to model the reliability of electronic systems. Given a hazard (failure) rate, λ, or mean time between failure (MTBF=1/λ), the reliability can be determined at a specific point in time (t). The exponential distribution probability density function is given by:\n",
    "\n",
    "$P(t) = \\lambda e^{-\\lambda t}$\n",
    "\n",
    "For example, given an electronic system with a mean time between failure of 700 hours, the reliability at the t=700 hour point is 0.37. Therefore, if a system fails in accordance with the exponential distribution, there is only a 37% chance of failure-free operation for a length of time equal to its MTBF."
   ]
  },
  {
   "cell_type": "code",
   "execution_count": null,
   "metadata": {
    "collapsed": true
   },
   "outputs": [],
   "source": [
    "rnd.exponential?"
   ]
  },
  {
   "cell_type": "code",
   "execution_count": null,
   "metadata": {
    "collapsed": true
   },
   "outputs": [],
   "source": [
    "# 10000 samples from exponential distribution\n",
    "N = 10000\n",
    "x = rnd.exponential(700, 10000)"
   ]
  },
  {
   "cell_type": "code",
   "execution_count": null,
   "metadata": {
    "collapsed": false
   },
   "outputs": [],
   "source": [
    "# Count frequencies using while-loop\n",
    "bins = np.arange(0, 2500, 50)\n",
    "L = np.size(bins)\n",
    "y = np.zeros(L)\n",
    "N = 10000\n",
    "n = 0\n",
    "while n < N:\n",
    "    for k in range(L-1):\n",
    "        if bins[k] <= x[n] < bins[k+1]:\n",
    "            y[k] += 1\n",
    "            break\n",
    "    if bins[-1] <= x[n]:\n",
    "        y[-1] += 1\n",
    "    n += 1\n",
    "\n",
    "plt.bar(bins, y, width = 50)\n",
    "plt.xlabel('Lifetime (hours)')\n",
    "plt.ylabel('Failures per 10 000 systems')"
   ]
  },
  {
   "cell_type": "code",
   "execution_count": null,
   "metadata": {
    "collapsed": false
   },
   "outputs": [],
   "source": [
    "# Alternatively use hist() function\n",
    "plt.hist(x, np.arange(0, 2500, 50));\n",
    "\n",
    "# Plot the area x <= 700\n",
    "plt.hist(x[x <= 700], np.arange(0, 800, 50))\n",
    "plt.xlabel('Lifetime (hours)')\n",
    "plt.ylabel('Failures per 10 000 systems')"
   ]
  },
  {
   "cell_type": "code",
   "execution_count": null,
   "metadata": {
    "collapsed": false
   },
   "outputs": [],
   "source": [
    "print(\"mean =\", np.mean(x))\n",
    "print(\"std =\", np.std(x))\n",
    "# What is the probability of failure within first 700 hours?\n",
    "print(\"P(x < 700) = \", np.sum(x < 700)/N)"
   ]
  },
  {
   "cell_type": "code",
   "execution_count": null,
   "metadata": {
    "collapsed": true
   },
   "outputs": [],
   "source": []
  }
 ],
 "metadata": {
  "kernelspec": {
   "display_name": "Python 3",
   "language": "python",
   "name": "python3"
  },
  "language_info": {
   "codemirror_mode": {
    "name": "ipython",
    "version": 3
   },
   "file_extension": ".py",
   "mimetype": "text/x-python",
   "name": "python",
   "nbconvert_exporter": "python",
   "pygments_lexer": "ipython3",
   "version": "3.5.1"
  }
 },
 "nbformat": 4,
 "nbformat_minor": 0
}
